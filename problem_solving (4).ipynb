{
 "cells": [
  {
   "cell_type": "code",
   "execution_count": 55,
   "id": "15b109bc-c67a-4a8f-9d76-2e138cf522d8",
   "metadata": {},
   "outputs": [
    {
     "name": "stdin",
     "output_type": "stream",
     "text": [
      "Enter a number:   15\n"
     ]
    },
    {
     "name": "stdout",
     "output_type": "stream",
     "text": [
      "15 is not prime \n"
     ]
    }
   ],
   "source": [
    "\n",
    "## check if a number is prime or not \n",
    "\n",
    "number= int(input(\"Enter a number:  \"))\n",
    "if number <=1:\n",
    "    print( \"Number is not prime\")\n",
    "\n",
    "\n",
    "else: \n",
    "    for divisor in range(2 ,(number//2)+1):\n",
    "        if ( number % divisor) == 0:\n",
    "            print( number,\"is not prime \")\n",
    "            break\n",
    "    else:\n",
    "            \n",
    "            print( number, \"is a prime\")\n",
    "            \n",
    "            \n",
    "\n",
    "\n",
    "\n",
    "\n",
    "\n",
    "    \n",
    "    "
   ]
  },
  {
   "cell_type": "code",
   "execution_count": null,
   "id": "4bcb4a54-c2f3-4993-be30-79f7f87c6e13",
   "metadata": {},
   "outputs": [],
   "source": []
  },
  {
   "cell_type": "code",
   "execution_count": null,
   "id": "1fde2b27-7ee1-4aff-9cf9-6e607e8b767a",
   "metadata": {},
   "outputs": [],
   "source": []
  },
  {
   "cell_type": "code",
   "execution_count": null,
   "id": "03fcf865-7142-4879-8809-032a9caa4a80",
   "metadata": {},
   "outputs": [],
   "source": []
  },
  {
   "cell_type": "code",
   "execution_count": null,
   "id": "ca798fa6-1b1f-4ff2-a439-90fcabc0c82c",
   "metadata": {},
   "outputs": [],
   "source": []
  }
 ],
 "metadata": {
  "kernelspec": {
   "display_name": "Python 3 (ipykernel)",
   "language": "python",
   "name": "python3"
  },
  "language_info": {
   "codemirror_mode": {
    "name": "ipython",
    "version": 3
   },
   "file_extension": ".py",
   "mimetype": "text/x-python",
   "name": "python",
   "nbconvert_exporter": "python",
   "pygments_lexer": "ipython3",
   "version": "3.13.0"
  }
 },
 "nbformat": 4,
 "nbformat_minor": 5
}
